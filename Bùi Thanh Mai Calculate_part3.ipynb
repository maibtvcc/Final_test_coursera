{
 "cells": [
  {
   "cell_type": "code",
   "execution_count": 1,
   "id": "89b2d28d",
   "metadata": {},
   "outputs": [],
   "source": [
    "import pandas as pd\n",
    "import numpy as np\n",
    "import matplotlib.pyplot as plt\n",
    "import seaborn as sns"
   ]
  },
  {
   "cell_type": "code",
   "execution_count": 2,
   "id": "0a5d7661",
   "metadata": {},
   "outputs": [],
   "source": [
    "df = pd.read_csv('data.txt',delimiter=\" \",names= ['date','time','user_id','domain'])"
   ]
  },
  {
   "cell_type": "code",
   "execution_count": 3,
   "id": "80003d7c",
   "metadata": {},
   "outputs": [],
   "source": [
    "df['date'] = df['date'].astype('datetime64')"
   ]
  },
  {
   "cell_type": "code",
   "execution_count": 4,
   "id": "ba4ad88a",
   "metadata": {},
   "outputs": [
    {
     "data": {
      "text/html": [
       "<div>\n",
       "<style scoped>\n",
       "    .dataframe tbody tr th:only-of-type {\n",
       "        vertical-align: middle;\n",
       "    }\n",
       "\n",
       "    .dataframe tbody tr th {\n",
       "        vertical-align: top;\n",
       "    }\n",
       "\n",
       "    .dataframe thead th {\n",
       "        text-align: right;\n",
       "    }\n",
       "</style>\n",
       "<table border=\"1\" class=\"dataframe\">\n",
       "  <thead>\n",
       "    <tr style=\"text-align: right;\">\n",
       "      <th></th>\n",
       "      <th>date</th>\n",
       "      <th>time</th>\n",
       "      <th>user_id</th>\n",
       "      <th>domain</th>\n",
       "    </tr>\n",
       "  </thead>\n",
       "  <tbody>\n",
       "    <tr>\n",
       "      <th>0</th>\n",
       "      <td>2019-02-25</td>\n",
       "      <td>12:53:01</td>\n",
       "      <td>a37agOUtUEQiyagcdU2TAA..</td>\n",
       "      <td>youtube.com</td>\n",
       "    </tr>\n",
       "    <tr>\n",
       "      <th>1</th>\n",
       "      <td>2019-02-25</td>\n",
       "      <td>11:58:01</td>\n",
       "      <td>5wGdzKx3Kf4WK0gNfwZPpw..</td>\n",
       "      <td>www.google.com</td>\n",
       "    </tr>\n",
       "    <tr>\n",
       "      <th>2</th>\n",
       "      <td>2019-02-25</td>\n",
       "      <td>14:29:01</td>\n",
       "      <td>ZoVXA0kss3EZXHWxv96EXA..</td>\n",
       "      <td>trangtraiviet.vn</td>\n",
       "    </tr>\n",
       "    <tr>\n",
       "      <th>3</th>\n",
       "      <td>2019-02-25</td>\n",
       "      <td>20:52:01</td>\n",
       "      <td>SE5aS0u9gRYDV76kCwilXQ..</td>\n",
       "      <td>vn.yahoo.com</td>\n",
       "    </tr>\n",
       "    <tr>\n",
       "      <th>4</th>\n",
       "      <td>2019-02-25</td>\n",
       "      <td>00:58:01</td>\n",
       "      <td>EGYc8cXe6GVDH3qp-qnPSQ..</td>\n",
       "      <td>www.youtube.com</td>\n",
       "    </tr>\n",
       "    <tr>\n",
       "      <th>...</th>\n",
       "      <td>...</td>\n",
       "      <td>...</td>\n",
       "      <td>...</td>\n",
       "      <td>...</td>\n",
       "    </tr>\n",
       "    <tr>\n",
       "      <th>69995</th>\n",
       "      <td>2019-03-03</td>\n",
       "      <td>17:56:01</td>\n",
       "      <td>ep7D0dpRFjKYLV8WNv4qhA..</td>\n",
       "      <td>www.google.com</td>\n",
       "    </tr>\n",
       "    <tr>\n",
       "      <th>69996</th>\n",
       "      <td>2019-03-03</td>\n",
       "      <td>19:40:01</td>\n",
       "      <td>YczVvu-ZARiSFPMCpY4R2g..</td>\n",
       "      <td>www.googleadservices.com</td>\n",
       "    </tr>\n",
       "    <tr>\n",
       "      <th>69997</th>\n",
       "      <td>2019-03-03</td>\n",
       "      <td>12:04:01</td>\n",
       "      <td>tmmVRJwUubpbs649mEVuLA..</td>\n",
       "      <td>www.youtube.com</td>\n",
       "    </tr>\n",
       "    <tr>\n",
       "      <th>69998</th>\n",
       "      <td>2019-03-03</td>\n",
       "      <td>00:54:01</td>\n",
       "      <td>3T3iWxyAllzLH1Tu-ezJUg..</td>\n",
       "      <td>www.facebook.com</td>\n",
       "    </tr>\n",
       "    <tr>\n",
       "      <th>69999</th>\n",
       "      <td>2019-03-03</td>\n",
       "      <td>21:44:02</td>\n",
       "      <td>LAOi3msaeoIJ67MNoTaF3A..</td>\n",
       "      <td>www.youtube.com</td>\n",
       "    </tr>\n",
       "  </tbody>\n",
       "</table>\n",
       "<p>70000 rows × 4 columns</p>\n",
       "</div>"
      ],
      "text/plain": [
       "            date      time                   user_id                    domain\n",
       "0     2019-02-25  12:53:01  a37agOUtUEQiyagcdU2TAA..               youtube.com\n",
       "1     2019-02-25  11:58:01  5wGdzKx3Kf4WK0gNfwZPpw..            www.google.com\n",
       "2     2019-02-25  14:29:01  ZoVXA0kss3EZXHWxv96EXA..          trangtraiviet.vn\n",
       "3     2019-02-25  20:52:01  SE5aS0u9gRYDV76kCwilXQ..              vn.yahoo.com\n",
       "4     2019-02-25  00:58:01  EGYc8cXe6GVDH3qp-qnPSQ..           www.youtube.com\n",
       "...          ...       ...                       ...                       ...\n",
       "69995 2019-03-03  17:56:01  ep7D0dpRFjKYLV8WNv4qhA..            www.google.com\n",
       "69996 2019-03-03  19:40:01  YczVvu-ZARiSFPMCpY4R2g..  www.googleadservices.com\n",
       "69997 2019-03-03  12:04:01  tmmVRJwUubpbs649mEVuLA..           www.youtube.com\n",
       "69998 2019-03-03  00:54:01  3T3iWxyAllzLH1Tu-ezJUg..          www.facebook.com\n",
       "69999 2019-03-03  21:44:02  LAOi3msaeoIJ67MNoTaF3A..           www.youtube.com\n",
       "\n",
       "[70000 rows x 4 columns]"
      ]
     },
     "execution_count": 4,
     "metadata": {},
     "output_type": "execute_result"
    }
   ],
   "source": [
    "df"
   ]
  },
  {
   "cell_type": "markdown",
   "id": "6ba15450",
   "metadata": {},
   "source": [
    "# DAU"
   ]
  },
  {
   "cell_type": "code",
   "execution_count": 7,
   "id": "ef88ee34",
   "metadata": {
    "scrolled": true
   },
   "outputs": [
    {
     "data": {
      "text/plain": [
       "date\n",
       "2019-02-25    9857\n",
       "2019-02-26    9862\n",
       "2019-02-27    9870\n",
       "2019-02-28    9871\n",
       "2019-03-01    9844\n",
       "2019-03-02    9834\n",
       "2019-03-03    9820\n",
       "Name: user_id, dtype: int64"
      ]
     },
     "execution_count": 7,
     "metadata": {},
     "output_type": "execute_result"
    }
   ],
   "source": [
    "df.groupby('date')['user_id'].nunique()"
   ]
  },
  {
   "cell_type": "markdown",
   "id": "5d229d5c",
   "metadata": {},
   "source": [
    "# Facebook DAU"
   ]
  },
  {
   "cell_type": "code",
   "execution_count": 8,
   "id": "89944395",
   "metadata": {
    "scrolled": true
   },
   "outputs": [
    {
     "data": {
      "text/plain": [
       "www.facebook.com      17403\n",
       "www.youtube.com       13648\n",
       "coccoc.com             6177\n",
       "www.google.com         3657\n",
       "mail.google.com        2250\n",
       "                      ...  \n",
       "soikeoplus.com            1\n",
       "mixi.vn                   1\n",
       "jobs.vietravel.com        1\n",
       "docs.python.org           1\n",
       "banh247.com               1\n",
       "Name: domain, Length: 6324, dtype: int64"
      ]
     },
     "execution_count": 8,
     "metadata": {},
     "output_type": "execute_result"
    }
   ],
   "source": [
    "df.domain.value_counts()"
   ]
  },
  {
   "cell_type": "code",
   "execution_count": 9,
   "id": "51c51488",
   "metadata": {
    "scrolled": true
   },
   "outputs": [
    {
     "data": {
      "text/plain": [
       "date\n",
       "2019-02-25    2487\n",
       "2019-02-26    2412\n",
       "2019-02-27    2473\n",
       "2019-02-28    2300\n",
       "2019-03-01    2513\n",
       "2019-03-02    2575\n",
       "2019-03-03    2594\n",
       "Name: user_id, dtype: int64"
      ]
     },
     "execution_count": 9,
     "metadata": {},
     "output_type": "execute_result"
    }
   ],
   "source": [
    "df[df.domain == 'www.facebook.com'].groupby('date')['user_id'].nunique()"
   ]
  },
  {
   "cell_type": "markdown",
   "id": "455762d7",
   "metadata": {},
   "source": [
    "# traffic distribution by hours"
   ]
  },
  {
   "cell_type": "code",
   "execution_count": 10,
   "id": "fbc19e1e",
   "metadata": {},
   "outputs": [],
   "source": [
    "df['hour'] = df['time'].str[0:2].astype('int64')"
   ]
  },
  {
   "cell_type": "code",
   "execution_count": 11,
   "id": "6304f4f2",
   "metadata": {},
   "outputs": [
    {
     "data": {
      "text/plain": [
       "Text(0.5, 1.0, 'traffic distribution by hours')"
      ]
     },
     "execution_count": 11,
     "metadata": {},
     "output_type": "execute_result"
    },
    {
     "data": {
      "image/png": "[encoded data removed]",
      "text/plain": [
       "<Figure size 540x360 with 1 Axes>"
      ]
     },
     "metadata": {
      "needs_background": "light"
     },
     "output_type": "display_data"
    }
   ],
   "source": [
    "sns.displot(data=df.sort_values('hour'),x='hour',height=5, aspect=1.5, kind='kde')\n",
    "plt.title('traffic distribution by hours')"
   ]
  },
  {
   "cell_type": "markdown",
   "id": "77c6b776",
   "metadata": {},
   "source": [
    "# top10 domains by traffics"
   ]
  },
  {
   "cell_type": "code",
   "execution_count": 12,
   "id": "39424185",
   "metadata": {},
   "outputs": [
    {
     "data": {
      "text/html": [
       "<div>\n",
       "<style scoped>\n",
       "    .dataframe tbody tr th:only-of-type {\n",
       "        vertical-align: middle;\n",
       "    }\n",
       "\n",
       "    .dataframe tbody tr th {\n",
       "        vertical-align: top;\n",
       "    }\n",
       "\n",
       "    .dataframe thead th {\n",
       "        text-align: right;\n",
       "    }\n",
       "</style>\n",
       "<table border=\"1\" class=\"dataframe\">\n",
       "  <thead>\n",
       "    <tr style=\"text-align: right;\">\n",
       "      <th></th>\n",
       "      <th>domain</th>\n",
       "      <th>traffics</th>\n",
       "    </tr>\n",
       "  </thead>\n",
       "  <tbody>\n",
       "    <tr>\n",
       "      <th>0</th>\n",
       "      <td>www.facebook.com</td>\n",
       "      <td>17403</td>\n",
       "    </tr>\n",
       "    <tr>\n",
       "      <th>1</th>\n",
       "      <td>www.youtube.com</td>\n",
       "      <td>13648</td>\n",
       "    </tr>\n",
       "    <tr>\n",
       "      <th>2</th>\n",
       "      <td>coccoc.com</td>\n",
       "      <td>6177</td>\n",
       "    </tr>\n",
       "    <tr>\n",
       "      <th>3</th>\n",
       "      <td>www.google.com</td>\n",
       "      <td>3657</td>\n",
       "    </tr>\n",
       "    <tr>\n",
       "      <th>4</th>\n",
       "      <td>mail.google.com</td>\n",
       "      <td>2250</td>\n",
       "    </tr>\n",
       "    <tr>\n",
       "      <th>5</th>\n",
       "      <td>www.google.com.vn</td>\n",
       "      <td>1516</td>\n",
       "    </tr>\n",
       "    <tr>\n",
       "      <th>6</th>\n",
       "      <td>translate.google.com</td>\n",
       "      <td>1074</td>\n",
       "    </tr>\n",
       "    <tr>\n",
       "      <th>7</th>\n",
       "      <td>accounts.google.com</td>\n",
       "      <td>776</td>\n",
       "    </tr>\n",
       "    <tr>\n",
       "      <th>8</th>\n",
       "      <td>translate.google.com.vn</td>\n",
       "      <td>773</td>\n",
       "    </tr>\n",
       "    <tr>\n",
       "      <th>9</th>\n",
       "      <td>www.24h.com.vn</td>\n",
       "      <td>702</td>\n",
       "    </tr>\n",
       "  </tbody>\n",
       "</table>\n",
       "</div>"
      ],
      "text/plain": [
       "                    domain  traffics\n",
       "0         www.facebook.com     17403\n",
       "1          www.youtube.com     13648\n",
       "2               coccoc.com      6177\n",
       "3           www.google.com      3657\n",
       "4          mail.google.com      2250\n",
       "5        www.google.com.vn      1516\n",
       "6     translate.google.com      1074\n",
       "7      accounts.google.com       776\n",
       "8  translate.google.com.vn       773\n",
       "9           www.24h.com.vn       702"
      ]
     },
     "execution_count": 12,
     "metadata": {},
     "output_type": "execute_result"
    }
   ],
   "source": [
    "df.domain.value_counts().reset_index().rename(columns = {'domain':'traffics','index':'domain'}).head(10)"
   ]
  },
  {
   "cell_type": "code",
   "execution_count": null,
   "id": "2dc6f249",
   "metadata": {},
   "outputs": [],
   "source": []
  }
 ],
 "metadata": {
  "kernelspec": {
   "display_name": "Python 3",
   "language": "python",
   "name": "python3"
  },
  "language_info": {
   "codemirror_mode": {
    "name": "ipython",
    "version": 3
   },
   "file_extension": ".py",
   "mimetype": "text/x-python",
   "name": "python",
   "nbconvert_exporter": "python",
   "pygments_lexer": "ipython3",
   "version": "3.6.13"
  }
 },
 "nbformat": 4,
 "nbformat_minor": 5
}
